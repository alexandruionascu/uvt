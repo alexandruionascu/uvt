{
 "cells": [
  {
   "cell_type": "code",
   "execution_count": 1,
   "metadata": {
    "collapsed": true
   },
   "outputs": [],
   "source": [
    "from pulp import *\n",
    "import numpy as np"
   ]
  },
  {
   "cell_type": "code",
   "execution_count": 2,
   "metadata": {
    "collapsed": true
   },
   "outputs": [],
   "source": [
    "cities_count = 4\n",
    "stations_count = 5"
   ]
  },
  {
   "cell_type": "code",
   "execution_count": 3,
   "metadata": {},
   "outputs": [
    {
     "data": {
      "text/plain": [
       "array([[ 0.05009246,  0.25315682,  0.36398134,  0.45809057,  0.01313998],\n",
       "       [ 0.30047512,  0.19946313,  0.72278353,  0.59553705,  0.28040674],\n",
       "       [ 0.99658079,  0.34137169,  0.00187091,  0.22219904,  0.00503099],\n",
       "       [ 0.011527  ,  0.61355313,  0.99442293,  0.76132087,  0.9448941 ]])"
      ]
     },
     "execution_count": 3,
     "metadata": {},
     "output_type": "execute_result"
    }
   ],
   "source": [
    "cost = np.random.rand(cities_count, stations_count)\n",
    "cost"
   ]
  },
  {
   "cell_type": "code",
   "execution_count": 4,
   "metadata": {},
   "outputs": [],
   "source": [
    "city_capacity = [1000, 600, 400, 500]\n",
    "station_capacity = [500, 500, 300, 600, 500]"
   ]
  },
  {
   "cell_type": "code",
   "execution_count": 5,
   "metadata": {
    "collapsed": true
   },
   "outputs": [],
   "source": [
    "prob = LpProblem(\"Gas Transportation\", LpMinimize)"
   ]
  },
  {
   "cell_type": "code",
   "execution_count": 6,
   "metadata": {},
   "outputs": [],
   "source": [
    "x = [[LpVariable(\"x_{0}_{1}\".format(i, j), 0) for j in range(stations_count)] for i in range(cities_count)] "
   ]
  },
  {
   "cell_type": "code",
   "execution_count": 7,
   "metadata": {},
   "outputs": [
    {
     "data": {
      "text/plain": [
       "[[x_0_0, x_0_1, x_0_2, x_0_3, x_0_4],\n",
       " [x_1_0, x_1_1, x_1_2, x_1_3, x_1_4],\n",
       " [x_2_0, x_2_1, x_2_2, x_2_3, x_2_4],\n",
       " [x_3_0, x_3_1, x_3_2, x_3_3, x_3_4]]"
      ]
     },
     "execution_count": 7,
     "metadata": {},
     "output_type": "execute_result"
    }
   ],
   "source": [
    "x"
   ]
  },
  {
   "cell_type": "code",
   "execution_count": 8,
   "metadata": {},
   "outputs": [],
   "source": [
    "# The objective function is added to 'prob' first\n",
    "prob += lpSum([cost[i][j] * x[i][j]  for i in range(cities_count) for j in range(stations_count)]) , \"Total Cost of Transportation\""
   ]
  },
  {
   "cell_type": "code",
   "execution_count": 9,
   "metadata": {
    "collapsed": true
   },
   "outputs": [],
   "source": [
    "# Add sum of cities constraint\n",
    "for i in range(cities_count):\n",
    "    prob += lpSum(x[i]) <= city_capacity[i], \"Sum sent from city {0}\".format(i)"
   ]
  },
  {
   "cell_type": "code",
   "execution_count": 10,
   "metadata": {},
   "outputs": [],
   "source": [
    "# Add sum of stations constraint\n",
    "for j in range(stations_count):\n",
    "    prob += lpSum([x[i][j] for i in range(cities_count)]) >= station_capacity[j], \"Sum received in station {0}\".format(j)"
   ]
  },
  {
   "cell_type": "code",
   "execution_count": 11,
   "metadata": {},
   "outputs": [
    {
     "data": {
      "text/plain": [
       "1"
      ]
     },
     "execution_count": 11,
     "metadata": {},
     "output_type": "execute_result"
    }
   ],
   "source": [
    "prob.solve()"
   ]
  },
  {
   "cell_type": "code",
   "execution_count": 12,
   "metadata": {},
   "outputs": [
    {
     "name": "stdout",
     "output_type": "stream",
     "text": [
      "Status: Optimal\n"
     ]
    }
   ],
   "source": [
    "print(\"Status:\", LpStatus[prob.status])"
   ]
  },
  {
   "cell_type": "code",
   "execution_count": 13,
   "metadata": {},
   "outputs": [
    {
     "name": "stdout",
     "output_type": "stream",
     "text": [
      "x_0_0 = 0.0\n",
      "x_0_1 = 0.0\n",
      "x_0_2 = 0.0\n",
      "x_0_3 = 500.0\n",
      "x_0_4 = 500.0\n",
      "x_1_0 = 0.0\n",
      "x_1_1 = 500.0\n",
      "x_1_2 = 0.0\n",
      "x_1_3 = 0.0\n",
      "x_1_4 = 0.0\n",
      "x_2_0 = 0.0\n",
      "x_2_1 = 0.0\n",
      "x_2_2 = 300.0\n",
      "x_2_3 = 100.0\n",
      "x_2_4 = 0.0\n",
      "x_3_0 = 500.0\n",
      "x_3_1 = 0.0\n",
      "x_3_2 = 0.0\n",
      "x_3_3 = 0.0\n",
      "x_3_4 = 0.0\n"
     ]
    }
   ],
   "source": [
    "for v in prob.variables():\n",
    "    print(v.name, \"=\", v.varValue)"
   ]
  },
  {
   "cell_type": "code",
   "execution_count": 15,
   "metadata": {},
   "outputs": [
    {
     "name": "stdout",
     "output_type": "stream",
     "text": [
      "Total Cost of Transportation =  363.89151344548276\n"
     ]
    }
   ],
   "source": [
    "# The optimised objective function value is printed to the screen\n",
    "print(\"Total Cost of Transportation = \", value(prob.objective))"
   ]
  },
  {
   "cell_type": "code",
   "execution_count": null,
   "metadata": {
    "collapsed": true
   },
   "outputs": [],
   "source": []
  }
 ],
 "metadata": {
  "kernelspec": {
   "display_name": "Python 3",
   "language": "python",
   "name": "python3"
  },
  "language_info": {
   "codemirror_mode": {
    "name": "ipython",
    "version": 3
   },
   "file_extension": ".py",
   "mimetype": "text/x-python",
   "name": "python",
   "nbconvert_exporter": "python",
   "pygments_lexer": "ipython3",
   "version": "3.6.3"
  }
 },
 "nbformat": 4,
 "nbformat_minor": 2
}
