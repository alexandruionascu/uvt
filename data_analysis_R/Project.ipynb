{
 "cells": [
  {
   "cell_type": "code",
   "execution_count": 23,
   "metadata": {},
   "outputs": [],
   "source": [
    "#Import libraries\n",
    "library(ggplot2) # Data visualization\n",
    "library(RSQLite)\n",
    "library(dplyr, warn.conflicts = FALSE)\n",
    "\n",
    "#Connect to the database \n",
    "db <- dbConnect(SQLite(),\"~/Downloads/soccer/database.sqlite\")\n",
    "Country <- dbGetQuery(db,\"Select * from Country\")\n",
    "Match <- dbGetQuery(db,\"Select * from Match\")\n",
    "League <- dbGetQuery(db,\"Select * from League\")\n",
    "Team <- dbGetQuery(db,\"Select * from Team\")\n",
    "Player <- dbGetQuery(db, \"Select * from Player\")\n",
    "Attribute <- dbGetQuery(db, \"Select * from Player_Attributes\")\n",
    "\n",
    "#Count the number of matches the particular team played at home\n",
    "home_match = count(Match,home_team_api_id)\n",
    "away_match = count(Match,away_team_api_id)\n",
    "                   \n",
    "#change names of the column n to number of matches\n",
    "names(home_match)[names(home_match)==\"n\"] <- \"home_matches_number\"\n",
    "names(away_match)[names(away_match)==\"n\"] <- \"away_matches_number\""
   ]
  },
  {
   "cell_type": "code",
   "execution_count": 24,
   "metadata": {},
   "outputs": [
    {
     "name": "stdout",
     "output_type": "stream",
     "text": [
      "[1] \"Removed unnecessary columns\"\n",
      "  home_team_api_id away_team_api_id total_matches wins win_percentage  country\n",
      "1             1601             1601           240    0              0   Poland\n",
      "2             1773             1773            90    0              0  Belgium\n",
      "3             1957             1957           240    0              0   Poland\n",
      "4             2033             2033           150    0              0 Portugal\n",
      "5             2182             2182           240    0              0   Poland\n",
      "6             2183             2183           150    0              0   Poland\n",
      "              team_name\n",
      "1          Ruch Chorzów\n",
      "2   Oud-Heverlee Leuven\n",
      "3 Jagiellonia Białystok\n",
      "4        S.C. Olhanense\n",
      "5           Lech Poznań\n",
      "6           P. Warszawa\n"
     ]
    }
   ],
   "source": [
    "#Combine these two dataframes\n",
    "new_match_data <- cbind(home_match,away_match)\n",
    "#Add three new columns,\n",
    "# a. total matches a particular team has played \n",
    "# b. how many matches the team has won at home and away\n",
    "# c. what is the winning percentage. (wins/total_matches * 100)\n",
    "new_match_data <- new_match_data %>% mutate(\n",
    "    total_matches = home_matches_number + away_matches_number,\n",
    "    wins = 0,\n",
    "    win_percentage = 0,\n",
    "    country = \"\",\n",
    "    team_name = \"\"\n",
    ")\n",
    "\n",
    "#Find the country of the team and append in the country coloumn\n",
    "for(row1 in rownames(new_match_data))\n",
    "{\n",
    "    home_indexes = which(Match$home_team_api_id == new_match_data$home_team_api_id[as.numeric(row1)])\n",
    "    new_match_data$country[as.numeric(row1)] <- Country$name[Country$id==Match$country_id[as.numeric(home_indexes[1])]]\n",
    "    new_match_data$team_name[as.numeric(row1)] <- Team$team_long_name[Team$team_api_id==new_match_data$home_team_api_id[as.numeric(row1)]]\n",
    "}\n",
    "#Drop the unnecessary columns \"home_matches_number\" and \"away_matches_number\"\n",
    "drops_columns <- c(\"home_matches_number\",\"away_matches_number\")\n",
    "new_match_data <- new_match_data[ , !(names(new_match_data) %in% drops_columns)]\n",
    "\n",
    "print(\"Removed unnecessary columns\")\n",
    "print(head(new_match_data))"
   ]
  },
  {
   "cell_type": "code",
   "execution_count": 25,
   "metadata": {},
   "outputs": [
    {
     "name": "stdout",
     "output_type": "stream",
     "text": [
      "    team_id total_matches wins win_percentage     country        team_name\n",
      "142    8634           304  234       76.97368       Spain     FC Barcelona\n",
      "141    8633           304  228       75.00000       Spain   Real Madrid CF\n",
      "175    9772           248  185       74.59677    Portugal       SL Benfica\n",
      "176    9773           248  183       73.79032    Portugal         FC Porto\n",
      "234    9925           304  218       71.71053    Scotland           Celtic\n",
      "115    8548           152  108       71.05263    Scotland          Rangers\n",
      "192    9823           272  193       70.95588     Germany FC Bayern Munich\n",
      "132    8593           272  181       66.54412 Netherlands             Ajax\n",
      "146    8640           272  178       65.44118 Netherlands              PSV\n",
      "143    8635           212  136       64.15094     Belgium   RSC Anderlecht\n"
     ]
    }
   ],
   "source": [
    "#Iterate over all the teams ids \n",
    "for(id in rownames(new_match_data))\n",
    "{\n",
    "    #win_count stores the number of wins if the current team has scored more goals than the opponent team.\n",
    "    win_count = 0 \n",
    "    #Find all the records in main \"Match\" table which match the current team id\n",
    "    home_indexes = which(Match$home_team_api_id == new_match_data$home_team_api_id[as.numeric(id)])\n",
    "    away_indexes = which(Match$away_team_api_id == new_match_data$away_team_api_id[as.numeric(id)])\n",
    "    \n",
    "    for(i in home_indexes)\n",
    "    {\n",
    "        if(Match$home_team_goal[i]>Match$away_team_goal[i])\n",
    "        {\n",
    "            win_count = win_count +1 \n",
    "        }\n",
    "    }\n",
    "    for(i in away_indexes)\n",
    "    {\n",
    "        if(Match$away_team_goal[i]>Match$home_team_goal[i])\n",
    "        {\n",
    "            win_count = win_count + 1\n",
    "        }\n",
    "    }\n",
    "    \n",
    "    new_match_data$wins[as.numeric(id)] <- win_count\n",
    "    new_match_data$win_percentage[as.numeric(id)] <- as.double(win_count/new_match_data$total_matches[as.numeric(id)]*100)\n",
    "}\n",
    "\n",
    "#Drop Away_team_id column and change home_team_api_id columns name to team_id\n",
    "drop_columns <- c(\"away_team_api_id\")\n",
    "new_match_data <- new_match_data[ , !names(new_match_data) %in% drop_columns]\n",
    "names(new_match_data)[names(new_match_data)==\"home_team_api_id\"]<-\"team_id\"\n",
    "\n",
    "#Sort the teams based on the winning percentage\n",
    "sorted_data <- new_match_data[order(-new_match_data$win_percentage),]\n",
    "print(sorted_data[0:10,])"
   ]
  },
  {
   "cell_type": "code",
   "execution_count": 45,
   "metadata": {},
   "outputs": [
    {
     "data": {},
     "metadata": {},
     "output_type": "display_data"
    },
    {
     "data": {
      "image/png": "[encoded data removed]",
      "text/plain": [
       "plot without title"
      ]
     },
     "metadata": {},
     "output_type": "display_data"
    }
   ],
   "source": [
    "ggplot(data=sorted_data[0:10,], aes(x=team_name,y=win_percentage)) + \n",
    "geom_bar(stat=\"identity\", fill=\"steelblue\")+labs(x=\"Team\",y=\"Winning percentage\")+\n",
    "ggtitle(\"Top 10 teams in all European Leagues\")+theme(axis.text.x = element_text(angle = 90, hjust = 1))"
   ]
  },
  {
   "cell_type": "code",
   "execution_count": 46,
   "metadata": {},
   "outputs": [],
   "source": [
    "plot_top_teams <- function(n, country) {\n",
    "    league_team <- sorted_data[sorted_data$country==country,]\n",
    "    league <- league_team[order(-german_team$win_percentage),][1:n,]\n",
    "    ggplot(data=league,aes(x=team_name,y=win_percentage))+\n",
    "    geom_bar(stat='identity',fill=\"firebrick \")+labs(x=\"Team\",y=\"Winning Percentage\")+\n",
    "    ggtitle(sprintf(\"Top %d Teams in %s League\", n, country))+theme(axis.text.x = element_text(angle = 90, hjust = 1))\n",
    "}"
   ]
  },
  {
   "cell_type": "code",
   "execution_count": 49,
   "metadata": {},
   "outputs": [
    {
     "data": {},
     "metadata": {},
     "output_type": "display_data"
    },
    {
     "data": {
      "image/png": "[encoded data removed]",
      "text/plain": [
       "plot without title"
      ]
     },
     "metadata": {},
     "output_type": "display_data"
    }
   ],
   "source": [
    "plot_top_teams(10, \"England\")"
   ]
  },
  {
   "cell_type": "code",
   "execution_count": 50,
   "metadata": {},
   "outputs": [
    {
     "data": {
      "text/html": [
       "<table>\n",
       "<thead><tr><th scope=col>id</th><th scope=col>country_id</th><th scope=col>league_id</th><th scope=col>season</th><th scope=col>stage</th><th scope=col>date</th><th scope=col>match_api_id</th><th scope=col>home_team_api_id</th><th scope=col>away_team_api_id</th><th scope=col>home_team_goal</th><th scope=col>⋯</th><th scope=col>SJA</th><th scope=col>VCH</th><th scope=col>VCD</th><th scope=col>VCA</th><th scope=col>GBH</th><th scope=col>GBD</th><th scope=col>GBA</th><th scope=col>BSH</th><th scope=col>BSD</th><th scope=col>BSA</th></tr></thead>\n",
       "<tbody>\n",
       "\t<tr><td>1                  </td><td>1                  </td><td>1                  </td><td>2008/2009          </td><td>1                  </td><td>2008-08-17 00:00:00</td><td>492473             </td><td> 9987              </td><td>9993               </td><td>1                  </td><td>⋯                  </td><td>4.00               </td><td>1.65               </td><td>3.40               </td><td>4.50               </td><td>1.78               </td><td>3.25               </td><td>4.00               </td><td>1.73               </td><td>3.40               </td><td>4.20               </td></tr>\n",
       "\t<tr><td>2                  </td><td>1                  </td><td>1                  </td><td>2008/2009          </td><td>1                  </td><td>2008-08-16 00:00:00</td><td>492474             </td><td>10000              </td><td>9994               </td><td>0                  </td><td>⋯                  </td><td>3.80               </td><td>2.00               </td><td>3.25               </td><td>3.25               </td><td>1.85               </td><td>3.25               </td><td>3.75               </td><td>1.91               </td><td>3.25               </td><td>3.60               </td></tr>\n",
       "\t<tr><td>3                  </td><td>1                  </td><td>1                  </td><td>2008/2009          </td><td>1                  </td><td>2008-08-16 00:00:00</td><td>492475             </td><td> 9984              </td><td>8635               </td><td>0                  </td><td>⋯                  </td><td>2.50               </td><td>2.35               </td><td>3.25               </td><td>2.65               </td><td>2.50               </td><td>3.20               </td><td>2.50               </td><td>2.30               </td><td>3.20               </td><td>2.75               </td></tr>\n",
       "\t<tr><td>4                  </td><td>1                  </td><td>1                  </td><td>2008/2009          </td><td>1                  </td><td>2008-08-17 00:00:00</td><td>492476             </td><td> 9991              </td><td>9998               </td><td>5                  </td><td>⋯                  </td><td>7.50               </td><td>1.45               </td><td>3.75               </td><td>6.50               </td><td>1.50               </td><td>3.75               </td><td>5.50               </td><td>1.44               </td><td>3.75               </td><td>6.50               </td></tr>\n",
       "\t<tr><td>5                  </td><td>1                  </td><td>1                  </td><td>2008/2009          </td><td>1                  </td><td>2008-08-16 00:00:00</td><td>492477             </td><td> 7947              </td><td>9985               </td><td>1                  </td><td>⋯                  </td><td>1.73               </td><td>4.50               </td><td>3.40               </td><td>1.65               </td><td>4.50               </td><td>3.50               </td><td>1.65               </td><td>4.75               </td><td>3.30               </td><td>1.67               </td></tr>\n",
       "\t<tr><td>6                  </td><td>1                  </td><td>1                  </td><td>2008/2009          </td><td>1                  </td><td>2008-09-24 00:00:00</td><td>492478             </td><td> 8203              </td><td>8342               </td><td>1                  </td><td>⋯                  </td><td>1.67               </td><td>4.35               </td><td>3.40               </td><td>1.70               </td><td>4.50               </td><td>3.40               </td><td>1.70               </td><td>  NA               </td><td>  NA               </td><td>  NA               </td></tr>\n",
       "</tbody>\n",
       "</table>\n"
      ],
      "text/latex": [
       "\\begin{tabular}{r|lllllllllllllllllllllllllllllllllllllllllllllllllllllllllllllllllllllllllllllllllllllllllllllllllllllllllllllllllll}\n",
       " id & country\\_id & league\\_id & season & stage & date & match\\_api\\_id & home\\_team\\_api\\_id & away\\_team\\_api\\_id & home\\_team\\_goal & ⋯ & SJA & VCH & VCD & VCA & GBH & GBD & GBA & BSH & BSD & BSA\\\\\n",
       "\\hline\n",
       "\t 1                   & 1                   & 1                   & 2008/2009           & 1                   & 2008-08-17 00:00:00 & 492473              &  9987               & 9993                & 1                   & ⋯                   & 4.00                & 1.65                & 3.40                & 4.50                & 1.78                & 3.25                & 4.00                & 1.73                & 3.40                & 4.20               \\\\\n",
       "\t 2                   & 1                   & 1                   & 2008/2009           & 1                   & 2008-08-16 00:00:00 & 492474              & 10000               & 9994                & 0                   & ⋯                   & 3.80                & 2.00                & 3.25                & 3.25                & 1.85                & 3.25                & 3.75                & 1.91                & 3.25                & 3.60               \\\\\n",
       "\t 3                   & 1                   & 1                   & 2008/2009           & 1                   & 2008-08-16 00:00:00 & 492475              &  9984               & 8635                & 0                   & ⋯                   & 2.50                & 2.35                & 3.25                & 2.65                & 2.50                & 3.20                & 2.50                & 2.30                & 3.20                & 2.75               \\\\\n",
       "\t 4                   & 1                   & 1                   & 2008/2009           & 1                   & 2008-08-17 00:00:00 & 492476              &  9991               & 9998                & 5                   & ⋯                   & 7.50                & 1.45                & 3.75                & 6.50                & 1.50                & 3.75                & 5.50                & 1.44                & 3.75                & 6.50               \\\\\n",
       "\t 5                   & 1                   & 1                   & 2008/2009           & 1                   & 2008-08-16 00:00:00 & 492477              &  7947               & 9985                & 1                   & ⋯                   & 1.73                & 4.50                & 3.40                & 1.65                & 4.50                & 3.50                & 1.65                & 4.75                & 3.30                & 1.67               \\\\\n",
       "\t 6                   & 1                   & 1                   & 2008/2009           & 1                   & 2008-09-24 00:00:00 & 492478              &  8203               & 8342                & 1                   & ⋯                   & 1.67                & 4.35                & 3.40                & 1.70                & 4.50                & 3.40                & 1.70                &   NA                &   NA                &   NA               \\\\\n",
       "\\end{tabular}\n"
      ],
      "text/markdown": [
       "\n",
       "id | country_id | league_id | season | stage | date | match_api_id | home_team_api_id | away_team_api_id | home_team_goal | ⋯ | SJA | VCH | VCD | VCA | GBH | GBD | GBA | BSH | BSD | BSA | \n",
       "|---|---|---|---|---|---|\n",
       "| 1                   | 1                   | 1                   | 2008/2009           | 1                   | 2008-08-17 00:00:00 | 492473              |  9987               | 9993                | 1                   | ⋯                   | 4.00                | 1.65                | 3.40                | 4.50                | 1.78                | 3.25                | 4.00                | 1.73                | 3.40                | 4.20                | \n",
       "| 2                   | 1                   | 1                   | 2008/2009           | 1                   | 2008-08-16 00:00:00 | 492474              | 10000               | 9994                | 0                   | ⋯                   | 3.80                | 2.00                | 3.25                | 3.25                | 1.85                | 3.25                | 3.75                | 1.91                | 3.25                | 3.60                | \n",
       "| 3                   | 1                   | 1                   | 2008/2009           | 1                   | 2008-08-16 00:00:00 | 492475              |  9984               | 8635                | 0                   | ⋯                   | 2.50                | 2.35                | 3.25                | 2.65                | 2.50                | 3.20                | 2.50                | 2.30                | 3.20                | 2.75                | \n",
       "| 4                   | 1                   | 1                   | 2008/2009           | 1                   | 2008-08-17 00:00:00 | 492476              |  9991               | 9998                | 5                   | ⋯                   | 7.50                | 1.45                | 3.75                | 6.50                | 1.50                | 3.75                | 5.50                | 1.44                | 3.75                | 6.50                | \n",
       "| 5                   | 1                   | 1                   | 2008/2009           | 1                   | 2008-08-16 00:00:00 | 492477              |  7947               | 9985                | 1                   | ⋯                   | 1.73                | 4.50                | 3.40                | 1.65                | 4.50                | 3.50                | 1.65                | 4.75                | 3.30                | 1.67                | \n",
       "| 6                   | 1                   | 1                   | 2008/2009           | 1                   | 2008-09-24 00:00:00 | 492478              |  8203               | 8342                | 1                   | ⋯                   | 1.67                | 4.35                | 3.40                | 1.70                | 4.50                | 3.40                | 1.70                |   NA                |   NA                |   NA                | \n",
       "\n",
       "\n"
      ],
      "text/plain": [
       "  id country_id league_id season    stage date                match_api_id\n",
       "1 1  1          1         2008/2009 1     2008-08-17 00:00:00 492473      \n",
       "2 2  1          1         2008/2009 1     2008-08-16 00:00:00 492474      \n",
       "3 3  1          1         2008/2009 1     2008-08-16 00:00:00 492475      \n",
       "4 4  1          1         2008/2009 1     2008-08-17 00:00:00 492476      \n",
       "5 5  1          1         2008/2009 1     2008-08-16 00:00:00 492477      \n",
       "6 6  1          1         2008/2009 1     2008-09-24 00:00:00 492478      \n",
       "  home_team_api_id away_team_api_id home_team_goal ⋯ SJA  VCH  VCD  VCA  GBH \n",
       "1  9987            9993             1              ⋯ 4.00 1.65 3.40 4.50 1.78\n",
       "2 10000            9994             0              ⋯ 3.80 2.00 3.25 3.25 1.85\n",
       "3  9984            8635             0              ⋯ 2.50 2.35 3.25 2.65 2.50\n",
       "4  9991            9998             5              ⋯ 7.50 1.45 3.75 6.50 1.50\n",
       "5  7947            9985             1              ⋯ 1.73 4.50 3.40 1.65 4.50\n",
       "6  8203            8342             1              ⋯ 1.67 4.35 3.40 1.70 4.50\n",
       "  GBD  GBA  BSH  BSD  BSA \n",
       "1 3.25 4.00 1.73 3.40 4.20\n",
       "2 3.25 3.75 1.91 3.25 3.60\n",
       "3 3.20 2.50 2.30 3.20 2.75\n",
       "4 3.75 5.50 1.44 3.75 6.50\n",
       "5 3.50 1.65 4.75 3.30 1.67\n",
       "6 3.40 1.70   NA   NA   NA"
      ]
     },
     "metadata": {},
     "output_type": "display_data"
    }
   ],
   "source": [
    "head(Match)"
   ]
  },
  {
   "cell_type": "code",
   "execution_count": 39,
   "metadata": {},
   "outputs": [
    {
     "data": {
      "text/html": [
       "<table>\n",
       "<thead><tr><th scope=col>id</th><th scope=col>player_fifa_api_id</th><th scope=col>player_api_id</th><th scope=col>date</th><th scope=col>overall_rating</th><th scope=col>potential</th><th scope=col>preferred_foot</th><th scope=col>attacking_work_rate</th><th scope=col>defensive_work_rate</th><th scope=col>crossing</th><th scope=col>⋯</th><th scope=col>vision</th><th scope=col>penalties</th><th scope=col>marking</th><th scope=col>standing_tackle</th><th scope=col>sliding_tackle</th><th scope=col>gk_diving</th><th scope=col>gk_handling</th><th scope=col>gk_kicking</th><th scope=col>gk_positioning</th><th scope=col>gk_reflexes</th></tr></thead>\n",
       "<tbody>\n",
       "\t<tr><td>1                  </td><td>218353             </td><td>505942             </td><td>2016-02-18 00:00:00</td><td>67                 </td><td>71                 </td><td>right              </td><td>medium             </td><td>medium             </td><td>49                 </td><td>⋯                  </td><td>54                 </td><td>48                 </td><td>65                 </td><td>69                 </td><td>69                 </td><td> 6                 </td><td>11                 </td><td>10                 </td><td>8                  </td><td> 8                 </td></tr>\n",
       "\t<tr><td>2                  </td><td>218353             </td><td>505942             </td><td>2015-11-19 00:00:00</td><td>67                 </td><td>71                 </td><td>right              </td><td>medium             </td><td>medium             </td><td>49                 </td><td>⋯                  </td><td>54                 </td><td>48                 </td><td>65                 </td><td>69                 </td><td>69                 </td><td> 6                 </td><td>11                 </td><td>10                 </td><td>8                  </td><td> 8                 </td></tr>\n",
       "\t<tr><td>3                  </td><td>218353             </td><td>505942             </td><td>2015-09-21 00:00:00</td><td>62                 </td><td>66                 </td><td>right              </td><td>medium             </td><td>medium             </td><td>49                 </td><td>⋯                  </td><td>54                 </td><td>48                 </td><td>65                 </td><td>66                 </td><td>69                 </td><td> 6                 </td><td>11                 </td><td>10                 </td><td>8                  </td><td> 8                 </td></tr>\n",
       "\t<tr><td>4                  </td><td>218353             </td><td>505942             </td><td>2015-03-20 00:00:00</td><td>61                 </td><td>65                 </td><td>right              </td><td>medium             </td><td>medium             </td><td>48                 </td><td>⋯                  </td><td>53                 </td><td>47                 </td><td>62                 </td><td>63                 </td><td>66                 </td><td> 5                 </td><td>10                 </td><td> 9                 </td><td>7                  </td><td> 7                 </td></tr>\n",
       "\t<tr><td>5                  </td><td>218353             </td><td>505942             </td><td>2007-02-22 00:00:00</td><td>61                 </td><td>65                 </td><td>right              </td><td>medium             </td><td>medium             </td><td>48                 </td><td>⋯                  </td><td>53                 </td><td>47                 </td><td>62                 </td><td>63                 </td><td>66                 </td><td> 5                 </td><td>10                 </td><td> 9                 </td><td>7                  </td><td> 7                 </td></tr>\n",
       "\t<tr><td>6                  </td><td>189615             </td><td>155782             </td><td>2016-04-21 00:00:00</td><td>74                 </td><td>76                 </td><td>left               </td><td>high               </td><td>medium             </td><td>80                 </td><td>⋯                  </td><td>66                 </td><td>59                 </td><td>76                 </td><td>75                 </td><td>78                 </td><td>14                 </td><td> 7                 </td><td> 9                 </td><td>9                  </td><td>12                 </td></tr>\n",
       "</tbody>\n",
       "</table>\n"
      ],
      "text/latex": [
       "\\begin{tabular}{r|llllllllllllllllllllllllllllllllllllllllll}\n",
       " id & player\\_fifa\\_api\\_id & player\\_api\\_id & date & overall\\_rating & potential & preferred\\_foot & attacking\\_work\\_rate & defensive\\_work\\_rate & crossing & ⋯ & vision & penalties & marking & standing\\_tackle & sliding\\_tackle & gk\\_diving & gk\\_handling & gk\\_kicking & gk\\_positioning & gk\\_reflexes\\\\\n",
       "\\hline\n",
       "\t 1                   & 218353              & 505942              & 2016-02-18 00:00:00 & 67                  & 71                  & right               & medium              & medium              & 49                  & ⋯                   & 54                  & 48                  & 65                  & 69                  & 69                  &  6                  & 11                  & 10                  & 8                   &  8                 \\\\\n",
       "\t 2                   & 218353              & 505942              & 2015-11-19 00:00:00 & 67                  & 71                  & right               & medium              & medium              & 49                  & ⋯                   & 54                  & 48                  & 65                  & 69                  & 69                  &  6                  & 11                  & 10                  & 8                   &  8                 \\\\\n",
       "\t 3                   & 218353              & 505942              & 2015-09-21 00:00:00 & 62                  & 66                  & right               & medium              & medium              & 49                  & ⋯                   & 54                  & 48                  & 65                  & 66                  & 69                  &  6                  & 11                  & 10                  & 8                   &  8                 \\\\\n",
       "\t 4                   & 218353              & 505942              & 2015-03-20 00:00:00 & 61                  & 65                  & right               & medium              & medium              & 48                  & ⋯                   & 53                  & 47                  & 62                  & 63                  & 66                  &  5                  & 10                  &  9                  & 7                   &  7                 \\\\\n",
       "\t 5                   & 218353              & 505942              & 2007-02-22 00:00:00 & 61                  & 65                  & right               & medium              & medium              & 48                  & ⋯                   & 53                  & 47                  & 62                  & 63                  & 66                  &  5                  & 10                  &  9                  & 7                   &  7                 \\\\\n",
       "\t 6                   & 189615              & 155782              & 2016-04-21 00:00:00 & 74                  & 76                  & left                & high                & medium              & 80                  & ⋯                   & 66                  & 59                  & 76                  & 75                  & 78                  & 14                  &  7                  &  9                  & 9                   & 12                 \\\\\n",
       "\\end{tabular}\n"
      ],
      "text/markdown": [
       "\n",
       "id | player_fifa_api_id | player_api_id | date | overall_rating | potential | preferred_foot | attacking_work_rate | defensive_work_rate | crossing | ⋯ | vision | penalties | marking | standing_tackle | sliding_tackle | gk_diving | gk_handling | gk_kicking | gk_positioning | gk_reflexes | \n",
       "|---|---|---|---|---|---|\n",
       "| 1                   | 218353              | 505942              | 2016-02-18 00:00:00 | 67                  | 71                  | right               | medium              | medium              | 49                  | ⋯                   | 54                  | 48                  | 65                  | 69                  | 69                  |  6                  | 11                  | 10                  | 8                   |  8                  | \n",
       "| 2                   | 218353              | 505942              | 2015-11-19 00:00:00 | 67                  | 71                  | right               | medium              | medium              | 49                  | ⋯                   | 54                  | 48                  | 65                  | 69                  | 69                  |  6                  | 11                  | 10                  | 8                   |  8                  | \n",
       "| 3                   | 218353              | 505942              | 2015-09-21 00:00:00 | 62                  | 66                  | right               | medium              | medium              | 49                  | ⋯                   | 54                  | 48                  | 65                  | 66                  | 69                  |  6                  | 11                  | 10                  | 8                   |  8                  | \n",
       "| 4                   | 218353              | 505942              | 2015-03-20 00:00:00 | 61                  | 65                  | right               | medium              | medium              | 48                  | ⋯                   | 53                  | 47                  | 62                  | 63                  | 66                  |  5                  | 10                  |  9                  | 7                   |  7                  | \n",
       "| 5                   | 218353              | 505942              | 2007-02-22 00:00:00 | 61                  | 65                  | right               | medium              | medium              | 48                  | ⋯                   | 53                  | 47                  | 62                  | 63                  | 66                  |  5                  | 10                  |  9                  | 7                   |  7                  | \n",
       "| 6                   | 189615              | 155782              | 2016-04-21 00:00:00 | 74                  | 76                  | left                | high                | medium              | 80                  | ⋯                   | 66                  | 59                  | 76                  | 75                  | 78                  | 14                  |  7                  |  9                  | 9                   | 12                  | \n",
       "\n",
       "\n"
      ],
      "text/plain": [
       "  id player_fifa_api_id player_api_id date                overall_rating\n",
       "1 1  218353             505942        2016-02-18 00:00:00 67            \n",
       "2 2  218353             505942        2015-11-19 00:00:00 67            \n",
       "3 3  218353             505942        2015-09-21 00:00:00 62            \n",
       "4 4  218353             505942        2015-03-20 00:00:00 61            \n",
       "5 5  218353             505942        2007-02-22 00:00:00 61            \n",
       "6 6  189615             155782        2016-04-21 00:00:00 74            \n",
       "  potential preferred_foot attacking_work_rate defensive_work_rate crossing ⋯\n",
       "1 71        right          medium              medium              49       ⋯\n",
       "2 71        right          medium              medium              49       ⋯\n",
       "3 66        right          medium              medium              49       ⋯\n",
       "4 65        right          medium              medium              48       ⋯\n",
       "5 65        right          medium              medium              48       ⋯\n",
       "6 76        left           high                medium              80       ⋯\n",
       "  vision penalties marking standing_tackle sliding_tackle gk_diving gk_handling\n",
       "1 54     48        65      69              69              6        11         \n",
       "2 54     48        65      69              69              6        11         \n",
       "3 54     48        65      66              69              6        11         \n",
       "4 53     47        62      63              66              5        10         \n",
       "5 53     47        62      63              66              5        10         \n",
       "6 66     59        76      75              78             14         7         \n",
       "  gk_kicking gk_positioning gk_reflexes\n",
       "1 10         8               8         \n",
       "2 10         8               8         \n",
       "3 10         8               8         \n",
       "4  9         7               7         \n",
       "5  9         7               7         \n",
       "6  9         9              12         "
      ]
     },
     "metadata": {},
     "output_type": "display_data"
    }
   ],
   "source": [
    "head(Attribute)"
   ]
  },
  {
   "cell_type": "code",
   "execution_count": 62,
   "metadata": {},
   "outputs": [],
   "source": [
    "team_api_id <- dbGetQuery(db, \"SELECT * FROM Team WHERE team_long_name LIKE '%Barcelona%'\")$team_api_id"
   ]
  },
  {
   "cell_type": "code",
   "execution_count": 206,
   "metadata": {},
   "outputs": [
    {
     "data": {
      "text/html": [
       "8634"
      ],
      "text/latex": [
       "8634"
      ],
      "text/markdown": [
       "8634"
      ],
      "text/plain": [
       "[1] 8634"
      ]
     },
     "metadata": {},
     "output_type": "display_data"
    }
   ],
   "source": [
    "team_api_id"
   ]
  },
  {
   "cell_type": "code",
   "execution_count": 159,
   "metadata": {},
   "outputs": [],
   "source": [
    "home_team_matches <- dbGetQuery(db, sprintf(\"SELECT * FROM Match WHERE home_team_api_id = %s\", team_api_id))\n",
    "away_team_matches <- dbGetQuery(db, sprintf(\"SELECT * FROM Match WHERE away_team_api_id = %s\", team_api_id))\n",
    "\n",
    "# remove fields with nulls\n",
    "home_team_matches <- na.omit(home_team_matches)\n",
    "away_team_matches <- na.omit(away_team_matches)\n",
    "\n",
    "get_player_attributes <- function(player_api_id, match_date) {\n",
    "    versions <- dbGetQuery(\n",
    "        db,\n",
    "        sprintf(\"SELECT * FROM Player_Attributes WHERE player_api_id = %s ORDER BY abs(DATE('%s') - date)\", player_api_id, match_date)\n",
    "    )\n",
    "    versions[1,]\n",
    "}"
   ]
  },
  {
   "cell_type": "code",
   "execution_count": 210,
   "metadata": {},
   "outputs": [
    {
     "name": "stdout",
     "output_type": "stream",
     "text": [
      " [1]  32657  33732  33988  33992  30661 213688  38818  37482 195305  23678\n",
      "[11] 150739  30738 150250  30613 154257  39854 172949  30955 213704  50047\n",
      "[21]  30981  30909\n"
     ]
    }
   ],
   "source": [
    "all_players <- list()\n",
    "for (i in 1:11) {\n",
    "    home_players <- as.list(home_team_matches[sprintf(\"home_player_%d\", i)])\n",
    "    away_players <- as.list(away_team_matches[sprintf(\"away_player_%d\", i)])\n",
    "    all_players <- append(unlist(all_players), unlist(home_players))\n",
    "    all_players <- append(unlist(all_players), unlist(away_players))\n",
    "}\n",
    "all_team_players <- unique(all_team_players)\n",
    "print(all_team_players)"
   ]
  },
  {
   "cell_type": "code",
   "execution_count": 156,
   "metadata": {},
   "outputs": [
    {
     "data": {
      "text/html": [
       "<table>\n",
       "<thead><tr><th scope=col>id</th><th scope=col>player_fifa_api_id</th><th scope=col>player_api_id</th><th scope=col>date</th><th scope=col>overall_rating</th><th scope=col>potential</th><th scope=col>preferred_foot</th><th scope=col>attacking_work_rate</th><th scope=col>defensive_work_rate</th><th scope=col>crossing</th><th scope=col>⋯</th><th scope=col>vision</th><th scope=col>penalties</th><th scope=col>marking</th><th scope=col>standing_tackle</th><th scope=col>sliding_tackle</th><th scope=col>gk_diving</th><th scope=col>gk_handling</th><th scope=col>gk_kicking</th><th scope=col>gk_positioning</th><th scope=col>gk_reflexes</th></tr></thead>\n",
       "<tbody>\n",
       "\t<tr><td>177093             </td><td>106573             </td><td>32657              </td><td>2012-08-31 00:00:00</td><td>85                 </td><td>87                 </td><td>right              </td><td>medium             </td><td>medium             </td><td>10                 </td><td>⋯                  </td><td>38                 </td><td>26                 </td><td>9                  </td><td>9                  </td><td>8                  </td><td>83                 </td><td>81                 </td><td>78                 </td><td>91                 </td><td>84                 </td></tr>\n",
       "</tbody>\n",
       "</table>\n"
      ],
      "text/latex": [
       "\\begin{tabular}{r|llllllllllllllllllllllllllllllllllllllllll}\n",
       " id & player\\_fifa\\_api\\_id & player\\_api\\_id & date & overall\\_rating & potential & preferred\\_foot & attacking\\_work\\_rate & defensive\\_work\\_rate & crossing & ⋯ & vision & penalties & marking & standing\\_tackle & sliding\\_tackle & gk\\_diving & gk\\_handling & gk\\_kicking & gk\\_positioning & gk\\_reflexes\\\\\n",
       "\\hline\n",
       "\t 177093              & 106573              & 32657               & 2012-08-31 00:00:00 & 85                  & 87                  & right               & medium              & medium              & 10                  & ⋯                   & 38                  & 26                  & 9                   & 9                   & 8                   & 83                  & 81                  & 78                  & 91                  & 84                 \\\\\n",
       "\\end{tabular}\n"
      ],
      "text/markdown": [
       "\n",
       "id | player_fifa_api_id | player_api_id | date | overall_rating | potential | preferred_foot | attacking_work_rate | defensive_work_rate | crossing | ⋯ | vision | penalties | marking | standing_tackle | sliding_tackle | gk_diving | gk_handling | gk_kicking | gk_positioning | gk_reflexes | \n",
       "|---|\n",
       "| 177093              | 106573              | 32657               | 2012-08-31 00:00:00 | 85                  | 87                  | right               | medium              | medium              | 10                  | ⋯                   | 38                  | 26                  | 9                   | 9                   | 8                   | 83                  | 81                  | 78                  | 91                  | 84                  | \n",
       "\n",
       "\n"
      ],
      "text/plain": [
       "  id     player_fifa_api_id player_api_id date                overall_rating\n",
       "1 177093 106573             32657         2012-08-31 00:00:00 85            \n",
       "  potential preferred_foot attacking_work_rate defensive_work_rate crossing ⋯\n",
       "1 87        right          medium              medium              10       ⋯\n",
       "  vision penalties marking standing_tackle sliding_tackle gk_diving gk_handling\n",
       "1 38     26        9       9               8              83        81         \n",
       "  gk_kicking gk_positioning gk_reflexes\n",
       "1 78         91             84         "
      ]
     },
     "metadata": {},
     "output_type": "display_data"
    }
   ],
   "source": [
    "get_player_attributes(32657, '2012-08-19 00:00:00')"
   ]
  },
  {
   "cell_type": "code",
   "execution_count": 104,
   "metadata": {},
   "outputs": [
    {
     "data": {
      "text/html": [
       "<table>\n",
       "<thead><tr><th></th><th scope=col>away_player_10</th></tr></thead>\n",
       "<tbody>\n",
       "\t<tr><th scope=row>77</th><td>30981</td></tr>\n",
       "\t<tr><th scope=row>78</th><td>30981</td></tr>\n",
       "\t<tr><th scope=row>79</th><td>30981</td></tr>\n",
       "\t<tr><th scope=row>80</th><td>30981</td></tr>\n",
       "\t<tr><th scope=row>81</th><td>30981</td></tr>\n",
       "\t<tr><th scope=row>83</th><td>30981</td></tr>\n",
       "\t<tr><th scope=row>84</th><td>30981</td></tr>\n",
       "\t<tr><th scope=row>85</th><td>30981</td></tr>\n",
       "\t<tr><th scope=row>86</th><td>30981</td></tr>\n",
       "\t<tr><th scope=row>87</th><td>30981</td></tr>\n",
       "\t<tr><th scope=row>88</th><td>30613</td></tr>\n",
       "\t<tr><th scope=row>89</th><td>30613</td></tr>\n",
       "\t<tr><th scope=row>90</th><td>30981</td></tr>\n",
       "\t<tr><th scope=row>91</th><td>30613</td></tr>\n",
       "\t<tr><th scope=row>92</th><td>30613</td></tr>\n",
       "\t<tr><th scope=row>93</th><td>30981</td></tr>\n",
       "\t<tr><th scope=row>94</th><td>30981</td></tr>\n",
       "\t<tr><th scope=row>95</th><td>30981</td></tr>\n",
       "</tbody>\n",
       "</table>\n"
      ],
      "text/latex": [
       "\\begin{tabular}{r|l}\n",
       "  & away\\_player\\_10\\\\\n",
       "\\hline\n",
       "\t77 & 30981\\\\\n",
       "\t78 & 30981\\\\\n",
       "\t79 & 30981\\\\\n",
       "\t80 & 30981\\\\\n",
       "\t81 & 30981\\\\\n",
       "\t83 & 30981\\\\\n",
       "\t84 & 30981\\\\\n",
       "\t85 & 30981\\\\\n",
       "\t86 & 30981\\\\\n",
       "\t87 & 30981\\\\\n",
       "\t88 & 30613\\\\\n",
       "\t89 & 30613\\\\\n",
       "\t90 & 30981\\\\\n",
       "\t91 & 30613\\\\\n",
       "\t92 & 30613\\\\\n",
       "\t93 & 30981\\\\\n",
       "\t94 & 30981\\\\\n",
       "\t95 & 30981\\\\\n",
       "\\end{tabular}\n"
      ],
      "text/markdown": [
       "\n",
       "| <!--/--> | away_player_10 | \n",
       "|---|---|---|---|---|---|---|---|---|---|---|---|---|---|---|---|---|---|\n",
       "| 77 | 30981 | \n",
       "| 78 | 30981 | \n",
       "| 79 | 30981 | \n",
       "| 80 | 30981 | \n",
       "| 81 | 30981 | \n",
       "| 83 | 30981 | \n",
       "| 84 | 30981 | \n",
       "| 85 | 30981 | \n",
       "| 86 | 30981 | \n",
       "| 87 | 30981 | \n",
       "| 88 | 30613 | \n",
       "| 89 | 30613 | \n",
       "| 90 | 30981 | \n",
       "| 91 | 30613 | \n",
       "| 92 | 30613 | \n",
       "| 93 | 30981 | \n",
       "| 94 | 30981 | \n",
       "| 95 | 30981 | \n",
       "\n",
       "\n"
      ],
      "text/plain": [
       "   away_player_10\n",
       "77 30981         \n",
       "78 30981         \n",
       "79 30981         \n",
       "80 30981         \n",
       "81 30981         \n",
       "83 30981         \n",
       "84 30981         \n",
       "85 30981         \n",
       "86 30981         \n",
       "87 30981         \n",
       "88 30613         \n",
       "89 30613         \n",
       "90 30981         \n",
       "91 30613         \n",
       "92 30613         \n",
       "93 30981         \n",
       "94 30981         \n",
       "95 30981         "
      ]
     },
     "metadata": {},
     "output_type": "display_data"
    }
   ],
   "source": [
    "away_team_matches[\"away_player_10\"]"
   ]
  },
  {
   "cell_type": "code",
   "execution_count": null,
   "metadata": {},
   "outputs": [],
   "source": []
  }
 ],
 "metadata": {
  "kernelspec": {
   "display_name": "R",
   "language": "R",
   "name": "ir"
  },
  "language_info": {
   "codemirror_mode": "r",
   "file_extension": ".r",
   "mimetype": "text/x-r-source",
   "name": "R",
   "pygments_lexer": "r",
   "version": "3.4.2"
  }
 },
 "nbformat": 4,
 "nbformat_minor": 2
}
