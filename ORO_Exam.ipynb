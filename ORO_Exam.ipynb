{
 "cells": [
  {
   "cell_type": "markdown",
   "metadata": {},
   "source": [
    "#### Consider the following variant of the Vertex Cover problem:  we are given a graph G = (V, E).  Each edge carries a positive penalty $p_e > 0$ if not covered.  Each vertex carries a total cost $c_v > 0$.  We want to find a set $S$ of vertices such that the sum of total costs of vertices in $S$ , plus the sum of penalties for edges not covered by $S$ (i.e. no endpoint of $e$ is in $S$ is minimized)."
   ]
  },
  {
   "cell_type": "markdown",
   "metadata": {},
   "source": [
    "##### Write an integer formulation for the problem above."
   ]
  },
  {
   "cell_type": "code",
   "execution_count": null,
   "metadata": {},
   "outputs": [],
   "source": []
  },
  {
   "cell_type": "markdown",
   "metadata": {},
   "source": [
    "#### Consider the following algorithm:  Solve the linear programming relaxation of the IP. Choose appropriately a value ∆ > 0. Round up to 1 all variables of the LP if their OPT value is ≥ ∆, down to 0.  Prove that if we choose appropriately the value of ∆ (to what value ?)  this algorithm is a 3-approximation algorithm for the problem above.\n",
    "Hint: This is similar to the arguments for the Vertex Cover problem."
   ]
  },
  {
   "cell_type": "code",
   "execution_count": null,
   "metadata": {},
   "outputs": [],
   "source": []
  },
  {
   "cell_type": "markdown",
   "metadata": {},
   "source": [
    "Consider the following linear programming problem.  Write its dual.\n",
    "\n",
    "$ min(y_1 + 2y_2 + 3y_3)$ subject to the constraints\n",
    "\n",
    "$ 4y_1 - 5y_2 + 6y_3 >= 7$\n",
    "\n",
    "$ -8y_1 + 9y_2 + 10y_3 >= 11$\n",
    "\n",
    "$ 12y_1 + 13y_3 >= 4$\n",
    "\n",
    "$ 15y_1 + 16y_2 + 17y_3 >= 18$\n",
    "\n",
    "$ y_i >= 0, \\ for \\ i  = 1,  2,  3$\n"
   ]
  },
  {
   "cell_type": "markdown",
   "metadata": {},
   "source": [
    "The dual problem:\n",
    "\n",
    "$max(7x_1 + 11x_2 + 4x_3 + 18x_4)$\n",
    "\n",
    "$ 4x_1 - 8x_2 + 12x_3 + 15x_4 <= 1 $\n",
    "\n",
    "$ -5x_1 + 9x_2 + 16x_4 <= 2$\n",
    "\n",
    "$ 6x_1 + 10x_2 + 13x_3 + 17x_4 <= 3$\n",
    "\n",
    "$ x_i >= 0, \\ for \\ i =  1,  2,  3, 4$"
   ]
  },
  {
   "cell_type": "markdown",
   "metadata": {},
   "source": [
    " #### Apply the two-phase simplex algorithm to the following problem.\n",
    " $max(4y_2 - y_1)$, subject to\n",
    "    \n",
    " $y_1 + 4y_2 <= 12$\n",
    " \n",
    " $ y_2 <= 2$   \n",
    " \n",
    " $ y_1 <= 6$\n",
    " \n",
    " $ y_1, y_2 >= 0$\n",
    " "
   ]
  },
  {
   "cell_type": "markdown",
   "metadata": {},
   "source": [
    "After introducing slack variables\n",
    "\n",
    "$y_1 + 4 y_2 + y_3 = 12$\n",
    "\n",
    "$y_2 + y_4 = 2$\n",
    "\n",
    "$y_1 + y_5 = 6$\n",
    "\n",
    "$and \\ y_1,y_2,y_3,y_4,y_5 ≥ 0$\n",
    "\n",
    "We can easily observe a basic feasible solution: (0, 0, 0, 0, 0)."
   ]
  },
  {
   "cell_type": "markdown",
   "metadata": {},
   "source": [
    "\n",
    " | y1 | y2 | y3 | y4 | y5 | MinRatio|\n",
    "---|--- |--- |--- | ---|--- |---|\n",
    "12 | 1 | 4 | 1 | 0 | 0 | 12/4 = 3 |\n",
    "2 |0 | (1) | 0 | 1 | 0 | 2/1 = 2 |\n",
    "6 | 1 | 0 | 0 | 0 | 1 |  |\n",
    "Cj|-1 | 4 | 0 | 0 | 0 |  |\n",
    "Zj| 0 | 0 |0 | 0 | 0 |  |\n",
    "Zj-Cj | 1 |-4 |0 | 0 | 0 |\n",
    "\n",
    "Negative minimum is -4 and its column index is 2. So, the entering variable is $y_2$.\n",
    "\n",
    "Minimum ratio is 2 and its row index is 2. So, the leaving basis variable is $y_4$.\n",
    "\n",
    "The pivot element is 1.\n",
    "\n",
    "$ r1 \\leftarrow r1 - 4r_2 $ \n",
    "\n",
    " | y1 | y2 | y3 | y4 | y5 |\n",
    "---|--- |--- |--- | ---|--- |\n",
    "4 | 1 | 0 | 1 | -4 | 0 |\n",
    "2 |0 | (1) | 0 | 1 | 0 |\n",
    "6 | 1 | 0 | 0 | 0 | 1 |\n",
    "Cj|-1 | 4 | 0 | 0 | 0 |\n",
    "Zj| 0 | 4 |0 | 4 | 0 |\n",
    "Zj-Cj | 1 | 0 |0 | 4 | 0 |\n",
    "\n",
    "Since all Zj-Cj≥0\n",
    "Hence, optimal solution is arrived with value of variables as :\n",
    "$$ y_1=0,y_2=2 \\\\ max(4y_2 - y_1) = 8 $$"
   ]
  },
  {
   "cell_type": "markdown",
   "metadata": {},
   "source": [
    "#### Using either Python/Pulp or Julia/JuMP, submit a program that solves the following problem:\n",
    "Place  8  queens  on  an  8x8  board  such  that  the  queens  don’t  attack  eachother and the sum of they coordinate values of the queens is minimized.\n",
    "You may use any solver you want. In case the model takes too much time and does not complete, simply describe the model and the experimental testing conditions."
   ]
  },
  {
   "cell_type": "code",
   "execution_count": 4,
   "metadata": {},
   "outputs": [
    {
     "data": {
      "text/plain": [
       "array([[q_00, q_01, q_02, q_03, q_04, q_05, q_06, q_07],\n",
       "       [q_10, q_11, q_12, q_13, q_14, q_15, q_16, q_17],\n",
       "       [q_20, q_21, q_22, q_23, q_24, q_25, q_26, q_27],\n",
       "       [q_30, q_31, q_32, q_33, q_34, q_35, q_36, q_37],\n",
       "       [q_40, q_41, q_42, q_43, q_44, q_45, q_46, q_47],\n",
       "       [q_50, q_51, q_52, q_53, q_54, q_55, q_56, q_57],\n",
       "       [q_60, q_61, q_62, q_63, q_64, q_65, q_66, q_67],\n",
       "       [q_70, q_71, q_72, q_73, q_74, q_75, q_76, q_77]], dtype=object)"
      ]
     },
     "execution_count": 4,
     "metadata": {},
     "output_type": "execute_result"
    }
   ],
   "source": [
    "from pulp import *\n",
    "import numpy as np\n",
    "\n",
    "prob = LpProblem(\"N-Queens\", LpMinimize)\n",
    "table_size = 8\n",
    "\n",
    "queens = np.array([[LpVariable(\"q_{0}{1}\".format(i, j), 0, 1, LpInteger) for j in range(table_size)] for i in range(table_size)])\n",
    "queens"
   ]
  },
  {
   "cell_type": "code",
   "execution_count": 157,
   "metadata": {},
   "outputs": [
    {
     "data": {
      "text/plain": [
       "[[0, 1, 2, 3, 4, 5, 6, 7],\n",
       " [0, 1, 2, 3, 4, 5, 6, 7],\n",
       " [0, 1, 2, 3, 4, 5, 6, 7],\n",
       " [0, 1, 2, 3, 4, 5, 6, 7],\n",
       " [0, 1, 2, 3, 4, 5, 6, 7],\n",
       " [0, 1, 2, 3, 4, 5, 6, 7],\n",
       " [0, 1, 2, 3, 4, 5, 6, 7],\n",
       " [0, 1, 2, 3, 4, 5, 6, 7]]"
      ]
     },
     "execution_count": 157,
     "metadata": {},
     "output_type": "execute_result"
    }
   ],
   "source": [
    "cost = [[j for j in range(table_size)] for i in range(table_size)]\n",
    "cost"
   ]
  },
  {
   "cell_type": "code",
   "execution_count": 158,
   "metadata": {},
   "outputs": [
    {
     "name": "stdout",
     "output_type": "stream",
     "text": [
      "Status: Optimal\n",
      "O|X|O|O|O|O|O|O|\n",
      "O|O|O|O|O|O|O|X|\n",
      "O|O|O|O|O|X|O|O|\n",
      "X|O|O|O|O|O|O|O|\n",
      "O|O|X|O|O|O|O|O|\n",
      "O|O|O|O|X|O|O|O|\n",
      "O|O|O|O|O|O|X|O|\n",
      "O|O|O|X|O|O|O|O|\n",
      "Min Sum of Y's =  28.0\n"
     ]
    }
   ],
   "source": [
    "# objective function\n",
    "prob += lpSum([cost[i][j] * queens[i][j]  for i in range(table_size) for j in range(table_size)])\n",
    "\n",
    "for i in range(table_size):\n",
    "    # for rows\n",
    "    prob += lpSum(queens[i]) == 1\n",
    "    # for columns\n",
    "    prob += lpSum(queens[:, i]) == 1\n",
    "    \n",
    "diags = [queens[::-1,:].diagonal(i) for i in range(-queens.shape[0] + 1, queens.shape[1])]\n",
    "diags.extend(queens.diagonal(i) for i in range(queens.shape[1] - 1,-queens.shape[0], -1))\n",
    "\n",
    "# diagonals\n",
    "for diag in diags:\n",
    "    prob += lpSum(diag) <= 1\n",
    "\n",
    "prob.solve()\n",
    "\n",
    "print(\"Status:\", LpStatus[prob.status])\n",
    "\n",
    "for index, v in enumerate(prob.variables()):\n",
    "    print('O|' if v.varValue == 0 else 'X|', end = '\\n' if (index + 1) % table_size == 0 else '')\n",
    "\n",
    "print(\"Min Sum of Y's = \", value(prob.objective))"
   ]
  },
  {
   "cell_type": "markdown",
   "metadata": {},
   "source": [
    "#### Present, in the context of a concrete linear programming example (other from ones discussed in class) a cover cut.  What are cuts good for ?"
   ]
  },
  {
   "cell_type": "code",
   "execution_count": null,
   "metadata": {},
   "outputs": [],
   "source": []
  },
  {
   "cell_type": "markdown",
   "metadata": {},
   "source": [
    "#### You want to order catering for a dinner for 140 programmers.  You may order any number of small plateaus, that serve 4 people and cost 50 euros per plateau, medium plateaus that serve 9 people and cost 90 euros per plateau and large plateaus, that serve 12 people and cost cost 110 euro. Each plateau is to be placed on a table (small, medium or large).  One can order at most 10 plateaus of each type. Give a branch-and-bound approach to compute the minimum number of table needed of each type, while minimizing the total cost of food.  You may use a program (Python/Pulp or Julia/Jump) to (optimally) solve the relaxations appearing in the B&B approach"
   ]
  },
  {
   "cell_type": "code",
   "execution_count": null,
   "metadata": {},
   "outputs": [],
   "source": []
  }
 ],
 "metadata": {
  "kernelspec": {
   "display_name": "Python 3",
   "language": "python",
   "name": "python3"
  },
  "language_info": {
   "codemirror_mode": {
    "name": "ipython",
    "version": 3
   },
   "file_extension": ".py",
   "mimetype": "text/x-python",
   "name": "python",
   "nbconvert_exporter": "python",
   "pygments_lexer": "ipython3",
   "version": "3.6.3"
  }
 },
 "nbformat": 4,
 "nbformat_minor": 2
}
