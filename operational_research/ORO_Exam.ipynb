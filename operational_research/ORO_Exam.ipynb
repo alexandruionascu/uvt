{
 "cells": [
  {
   "cell_type": "markdown",
   "metadata": {},
   "source": [
    "#### Consider the following variant of the Vertex Cover problem:  we are given a graph G = (V, E).  Each edge carries a positive penalty $p_e > 0$ if not covered.  Each vertex carries a total cost $c_v > 0$.  We want to find a set $S$ of vertices such that the sum of total costs of vertices in $S$ , plus the sum of penalties for edges not covered by $S$ (i.e. no endpoint of $e$ is in $S$ is minimized)."
   ]
  },
  {
   "cell_type": "markdown",
   "metadata": {},
   "source": [
    "##### Write an integer formulation for the problem above."
   ]
  },
  {
   "cell_type": "markdown",
   "metadata": {},
   "source": [
    "$ min( \\sum_{v \\in V}c_v x_v + \\sum_{e \\leftarrow(u, v) \\in E} p_e x_e) $\n",
    "\n",
    "$ x_u + x_v + x_e \\geq 1, \\ \\forall e \\leftarrow(u, v) \\in E $ \n",
    "\n",
    "$ x_v \\in \\{0, 1\\}, \\forall v \\in V $\n",
    "\n",
    "$ x_e \\in \\{0, 1\\}, \\forall e \\in E $"
   ]
  },
  {
   "cell_type": "markdown",
   "metadata": {},
   "source": [
    "#### Consider the following algorithm:  Solve the linear programming relaxation of the IP. Choose appropriately a value ∆ > 0. Round up to 1 all variables of the LP if their OPT value is ≥ ∆, down to 0.  Prove that if we choose appropriately the value of ∆ (to what value ?)  this algorithm is a 3-approximation algorithm for the problem above.\n",
    "Hint: This is similar to the arguments for the Vertex Cover problem."
   ]
  },
  {
   "cell_type": "markdown",
   "metadata": {},
   "source": [
    "Let $\\overline{x}$ an optimal solution to the LP. We round the value to the closest integer as follows:\n",
    "\n",
    "$ x' = 1 $ if $\\overline{x} \\geq ∆ = \\frac{1}{3}$ and \n",
    "\n",
    "$ x' = 0 $ if $ \\overline{x} < ∆ = \\frac{1}{3}$.\n",
    "\n",
    "$ \\sum_{v \\in V}{c_v x_v} + \\sum_{e\\leftarrow(u, v) \\in E} p_e x_e \\\\\n",
    "= \\sum_{v \\in V}{c_v \\overline{x}_v} + \\sum_{e\\leftarrow(u, v) \\in E} p_e \\overline{x}_e \\\\\n",
    "\\leq \\sum_{v \\in V}{3c_v x'_v} + \\sum_{e\\leftarrow(u, v) \\in E} 3p_e x' \\\\\n",
    "= 3 \\sum_{v \\in V}{c_v x'_v} + 3\\sum_{e\\leftarrow(u, v) \\in E} p_e x \\\\\n",
    "= 3 \\cdot OPT(LP) $\n",
    "\n",
    "The solution set is valid because for every $ e \\leftarrow (u, v) \\in E $ we impose to take $u$ or $v$, otherwise the penalty $x_e$ must pe added. So, there is at least one variable of $\\overline{x}_u, \\overline{x}_v, \\overline{x}_e$ to be at least $\\frac{1}{3}$."
   ]
  },
  {
   "cell_type": "markdown",
   "metadata": {},
   "source": [
    "#### Consider the following linear programming problem.  Write its dual.\n",
    "\n",
    "$ min(y_1 + 2y_2 + 3y_3)$ subject to the constraints\n",
    "\n",
    "$ 4y_1 - 5y_2 + 6y_3 \\geq 7$\n",
    "\n",
    "$ -8y_1 + 9y_2 + 10y_3 \\geq 11$\n",
    "\n",
    "$ 12y_1 + 13y_3 \\geq 4$\n",
    "\n",
    "$ 15y_1 + 16y_2 + 17y_3 \\geq 18$\n",
    "\n",
    "$ y_i \\geq 0, \\ for \\ i  = 1,  2,  3$\n"
   ]
  },
  {
   "cell_type": "markdown",
   "metadata": {},
   "source": [
    "The dual problem:\n",
    "\n",
    "$max(7x_1 + 11x_2 + 4x_3 + 18x_4)$\n",
    "\n",
    "$ 4x_1 - 8x_2 + 12x_3 + 15x_4 \\leq 1 $\n",
    "\n",
    "$ -5x_1 + 9x_2 + 16x_4 \\leq 2$\n",
    "\n",
    "$ 6x_1 + 10x_2 + 13x_3 + 17x_4 \\leq 3$\n",
    "\n",
    "$ x_i \\geq 0, \\ for \\ i =  1,  2,  3, 4$"
   ]
  },
  {
   "cell_type": "markdown",
   "metadata": {},
   "source": [
    " #### Apply the two-phase simplex algorithm to the following problem.\n",
    " $max(4y_2 - y_1)$, subject to\n",
    "    \n",
    " $y_1 + 4y_2 \\leq 12$\n",
    " \n",
    " $ y_2 \\leq 2$   \n",
    " \n",
    " $ y_1 \\leq 6$\n",
    " \n",
    " $ y_1, y_2 \\geq 0$\n",
    " "
   ]
  },
  {
   "cell_type": "markdown",
   "metadata": {},
   "source": [
    "We first add the slack variables.\n",
    "\n",
    "$y_1 + 4 y_2 + y_3 = 12$\n",
    "\n",
    "$y_2 + y_4 = 2$\n",
    "\n",
    "$y_1 + y_5 = 6$\n",
    "\n",
    "$and \\ y_1,y_2,y_3,y_4,y_5 ≥ 0$\n",
    "\n",
    "We have an initial feasible solution (0, 0, 0, 0, 0)."
   ]
  },
  {
   "cell_type": "markdown",
   "metadata": {},
   "source": [
    "\n",
    "| # | y1 | y2 | y3 | y4 | y5 | ratio| \n",
    "|---|--- |--- |--- | ---|--- | ---  |\n",
    "|12 | 1 | 4 | 1 | 0 | 0 | 12/4 = 3 |\n",
    "|2 |0 | 1 | 0 | 1 | 0 | 2/1 = 2 |\n",
    "|6 | 1 | 0 | 0 | 0 | 1 |  |\n",
    "|C |-1 | 4 | 0 | 0 | 0 |  |\n",
    "|Z | 0 | 0 |0 | 0 | 0 |  |\n",
    "| | 1 |-4 |0 | 0 | 0 |\n",
    "\n",
    "We have -4 as the negative minimum on the second column and 2 as the minimum ratio on the second row.\n",
    "The entering variable is $y_2$ and the leaving one is $y_4$.\n",
    "\n",
    "We apply the following transformation: $ r1 \\leftarrow r1 - 4r_2 $ \n",
    "\n",
    "| # | y1 | y2 | y3 | y4 | y5 |\n",
    "|---|--- |--- |--- | ---|--- |\n",
    "| 4 | 1 | 0 | 1 | -4 | 0 |\n",
    "| 2 |0 | 1 | 0 | 1 | 0 |\n",
    "| 6 | 1 | 0 | 0 | 0 | 1 |\n",
    "| C |-1 | 4 | 0 | 0 | 0 |\n",
    "| Z | 0 | 4 |0 | 4 | 0 |\n",
    "| | 1 | 0 |0 | 4 | 0 |\n",
    "\n",
    "We found the optimal solution as :\n",
    "$$ y_1=0,y_2=2 \\\\ max(4y_2 - y_1) = 8 $$"
   ]
  },
  {
   "cell_type": "markdown",
   "metadata": {},
   "source": [
    "#### Using either Python/Pulp or Julia/JuMP, submit a program that solves the following problem:\n",
    "##### Place  8  queens  on  an  8x8  board  such  that  the  queens  don’t  attack  eachother and the sum of the y coordinate values of the queens is minimized.\n",
    "###### You may use any solver you want. In case the model takes too much time and does not complete, simply describe the model and the experimental testing conditions."
   ]
  },
  {
   "cell_type": "markdown",
   "metadata": {},
   "source": [
    "In order to solve this problem we will use 8x8 binary variables. Since we have N queens on a NxN board, it means that we have a single queen on each row, and a single queen on each column. So, the sum of the binary variables on each row and each column is 1. In the case of diagonals, we can have at most one queen on a diagonal, because there also is the possibility that the diagonal is empty.   "
   ]
  },
  {
   "cell_type": "code",
   "execution_count": 6,
   "metadata": {},
   "outputs": [
    {
     "data": {
      "text/plain": [
       "array([[q_00, q_01, q_02, q_03, q_04, q_05, q_06, q_07],\n",
       "       [q_10, q_11, q_12, q_13, q_14, q_15, q_16, q_17],\n",
       "       [q_20, q_21, q_22, q_23, q_24, q_25, q_26, q_27],\n",
       "       [q_30, q_31, q_32, q_33, q_34, q_35, q_36, q_37],\n",
       "       [q_40, q_41, q_42, q_43, q_44, q_45, q_46, q_47],\n",
       "       [q_50, q_51, q_52, q_53, q_54, q_55, q_56, q_57],\n",
       "       [q_60, q_61, q_62, q_63, q_64, q_65, q_66, q_67],\n",
       "       [q_70, q_71, q_72, q_73, q_74, q_75, q_76, q_77]], dtype=object)"
      ]
     },
     "execution_count": 6,
     "metadata": {},
     "output_type": "execute_result"
    }
   ],
   "source": [
    "from pulp import *\n",
    "import numpy as np\n",
    "\n",
    "prob = LpProblem(\"N-Queens\", LpMinimize)\n",
    "table_size = 8\n",
    "\n",
    "queens = np.array([[\n",
    "    LpVariable(\"q_{0}{1}\".format(i, j), 0, 1, LpInteger)\n",
    "     for j in range(table_size)]\n",
    "        for i in range(table_size)\n",
    "])\n",
    "queens"
   ]
  },
  {
   "cell_type": "code",
   "execution_count": 7,
   "metadata": {},
   "outputs": [
    {
     "data": {
      "text/plain": [
       "[[0, 1, 2, 3, 4, 5, 6, 7],\n",
       " [0, 1, 2, 3, 4, 5, 6, 7],\n",
       " [0, 1, 2, 3, 4, 5, 6, 7],\n",
       " [0, 1, 2, 3, 4, 5, 6, 7],\n",
       " [0, 1, 2, 3, 4, 5, 6, 7],\n",
       " [0, 1, 2, 3, 4, 5, 6, 7],\n",
       " [0, 1, 2, 3, 4, 5, 6, 7],\n",
       " [0, 1, 2, 3, 4, 5, 6, 7]]"
      ]
     },
     "execution_count": 7,
     "metadata": {},
     "output_type": "execute_result"
    }
   ],
   "source": [
    "cost = [\n",
    "    [j for j in range(table_size)]\n",
    "        for i in range(table_size)\n",
    "]\n",
    "cost"
   ]
  },
  {
   "cell_type": "code",
   "execution_count": 8,
   "metadata": {},
   "outputs": [
    {
     "name": "stdout",
     "output_type": "stream",
     "text": [
      "Status: Optimal\n",
      "O|X|O|O|O|O|O|O|\n",
      "O|O|O|O|O|O|O|X|\n",
      "O|O|O|O|O|X|O|O|\n",
      "X|O|O|O|O|O|O|O|\n",
      "O|O|X|O|O|O|O|O|\n",
      "O|O|O|O|X|O|O|O|\n",
      "O|O|O|O|O|O|X|O|\n",
      "O|O|O|X|O|O|O|O|\n",
      "Min Sum of Y's =  28.0\n"
     ]
    }
   ],
   "source": [
    "# objective function\n",
    "prob += lpSum([\n",
    "    cost[i][j] * queens[i][j]\n",
    "        for i in range(table_size)\n",
    "            for j in range(table_size)\n",
    "])\n",
    "\n",
    "for i in range(table_size):\n",
    "    # for rows\n",
    "    prob += lpSum(queens[i]) == 1\n",
    "    # for columns\n",
    "    prob += lpSum(queens[:, i]) == 1\n",
    "    \n",
    "diags = [\n",
    "    queens[::-1,:].diagonal(i)\n",
    "        for i in range(-queens.shape[0] + 1, queens.shape[1])\n",
    "]\n",
    "diags.extend(\n",
    "    queens.diagonal(i)\n",
    "        for i in range(queens.shape[1] - 1,-queens.shape[0], -1)\n",
    ")\n",
    "\n",
    "# diagonals\n",
    "for diag in diags:\n",
    "    prob += lpSum(diag) <= 1\n",
    "\n",
    "prob.solve()\n",
    "\n",
    "print(\"Status:\", LpStatus[prob.status])\n",
    "\n",
    "for index, v in enumerate(prob.variables()):\n",
    "    print(\n",
    "        'O|' if v.varValue == 0 else 'X|',\n",
    "        end = '\\n' if (index + 1) % table_size == 0 else ''\n",
    "    )\n",
    "\n",
    "print(\"Min Sum of Y's = \", value(prob.objective))"
   ]
  },
  {
   "cell_type": "markdown",
   "metadata": {},
   "source": [
    "#### Present, in the context of a concrete linear programming example (other from ones discussed in class) a cover cut. \n",
    "##### What are cuts good for ?"
   ]
  },
  {
   "cell_type": "markdown",
   "metadata": {},
   "source": [
    "Cuts are stronger constraints that can help solving complex MILP problems by reducing the feasible region, thus making them simpler to solve. The set of feasible solutions is not affected in the integer programming problem.  \n",
    "\n",
    "When we have a constraint in the form of a knapsack constraint we can add cover cuts. The subset of the variables which would violate the inequality if they were all set with 1, would form a minimal cover, but only if we can exclude a single element from the set, the initial inequality must hold.\n",
    "\n",
    "For the sake of simplicity we will take as example a spin-off based on the catering problem in the next exercise. Suppose we have 160 EUR and we have only 3 plateaus: a small one, a medium one and a large one. This time we want to maximize the number of programmers to be served within our budget.\n",
    "\n",
    "\n",
    "We have the constraints:\n",
    "\n",
    "$ 50x_0 + 90x_1 + 110x_2 \\leq 160$\n",
    "\n",
    "$ x_0, x_1, x_2 \\in \\{0, 1\\} $\n",
    "\n",
    "\n",
    "Let C = {90, 110} be our minimal cover.\n",
    "\n",
    "Then $160 - 50 = 110 $\n",
    "\n",
    "We will have the corresponding cover cut: $x_1 + x_2 \\leq 1$"
   ]
  },
  {
   "cell_type": "markdown",
   "metadata": {},
   "source": [
    "#### You want to order catering for a dinner for 140 programmers.  You may order any number of small plateaus, that serve 4 people and cost 50 euros per plateau, medium plateaus that serve 9 people and cost 90 euros per plateau and large plateaus, that serve 12 people and cost cost 110 euro. Each plateau is to be placed on a table (small, medium or large).  One can order at most 10 plateaus of each type. Give a branch-and-bound approach to compute the minimum number of table needed of each type, while minimizing the total cost of food.  You may use a program (Python/Pulp or Julia/Jump) to (optimally) solve the relaxations appearing in the B&B approach"
   ]
  },
  {
   "cell_type": "markdown",
   "metadata": {},
   "source": [
    "The problem can be formulated accordingly:\n",
    "    \n",
    "$ min(50x_0 + 90x_1 + 110x_2) $ subject to\n",
    "\n",
    "$ 4x_0 + 9x_1 + 12x_2 \\geq 140 $\n",
    "\n",
    "$ x_i \\leq 10 \\ $\n",
    "\n",
    "$ x_i \\geq 0 $\n",
    "\n",
    "$ x_i \\in \\mathbb{Z} \\ for \\ i=0,1,2 $\n",
    "\n",
    "Solving the relaxation implies that the last constraint is not taken into consideration.\n",
    "A B&B approach would be solving first the relaxation and then add new branches with two new constraints on the variable with the biggest fractional part.\n",
    "If all variables are integers, we found the optimum, if not, we compute the current solution. Since it's a minimization problem, we round the variables up. The current relaxation solution is our lower bound and the current (rounded) solution is our upper bound. We want to improve the current bounds as much as we can. \n",
    "If $x'_j$ is our variable with the largest fractional value, then we solve two more problems, each with a different additional constraint $ x_j >= [x'_j]$ and $x_j <= [x'_j]$. We apply this algorithm on each branch until we reach to infeasible solutions, or the upper bounds are not improving."
   ]
  },
  {
   "cell_type": "markdown",
   "metadata": {},
   "source": [
    "Next, we will compute the nodes in the tree using PuLP, reaching to the minimum cost of 1330 EUR with 13 tables (1 small, 2 medium, 10 large)."
   ]
  },
  {
   "cell_type": "code",
   "execution_count": 95,
   "metadata": {},
   "outputs": [],
   "source": [
    "from pulp import *\n",
    "import numpy as np\n",
    "\n",
    "prob = LpProblem(\"Catering\", LpMinimize)\n",
    "cost = [50, 90, 110]\n",
    "people = [4, 9, 12]\n",
    "\n",
    "x = [LpVariable(\"x_{0}\".format(i), 0, None) for i in range(3)]\n",
    "prob += lpSum([cost[i] * x[i] for i in range(3)])\n",
    "prob += lpSum([people[i] * x[i] for i in range(3)]) >= 140\n",
    "for i in range(3):\n",
    "        prob += x[i] <= 10\n",
    "        \n",
    "def solve_lp_relaxation(additional_constraints = []):\n",
    "    global prob, x\n",
    "    for constraint in additional_constraints:\n",
    "        prob += constraint\n",
    "    prob.solve()\n",
    "    print(\"Status:\", LpStatus[prob.status])\n",
    "    for index, v in enumerate(prob.variables()):\n",
    "        print(v.varValue)\n",
    "    print(\"Min cost = \", value(prob.objective))"
   ]
  },
  {
   "cell_type": "code",
   "execution_count": 96,
   "metadata": {},
   "outputs": [
    {
     "name": "stdout",
     "output_type": "stream",
     "text": [
      "Status: Optimal\n",
      "0.0\n",
      "2.2222222\n",
      "10.0\n",
      "Min cost =  1299.999998\n",
      "Status: Optimal\n",
      "0.5\n",
      "2.0\n",
      "10.0\n",
      "Min cost =  1305.0\n",
      "Status: Infeasible\n",
      "0.0\n",
      "3.0\n",
      "9.4166667\n",
      "Min cost =  1305.833337\n",
      "Status: Infeasible\n",
      "0.0\n",
      "3.0\n",
      "9.4166667\n",
      "Min cost =  1305.833337\n",
      "Status: Infeasible\n",
      "0.0\n",
      "3.0\n",
      "9.4166667\n",
      "Min cost =  1305.833337\n"
     ]
    }
   ],
   "source": [
    "solve_lp_relaxation()\n",
    "solve_lp_relaxation([x[1] <= 2])\n",
    "solve_lp_relaxation([x[1] >= 3])\n",
    "solve_lp_relaxation([x[1] <= 2, x[0] <= 0])\n",
    "solve_lp_relaxation([x[1] <= 2, x[0] >= 1])"
   ]
  },
  {
   "cell_type": "markdown",
   "metadata": {},
   "source": [
    "![Branch and Bound](bb.png)"
   ]
  }
 ],
 "metadata": {
  "kernelspec": {
   "display_name": "Python 3",
   "language": "python",
   "name": "python3"
  },
  "language_info": {
   "codemirror_mode": {
    "name": "ipython",
    "version": 3
   },
   "file_extension": ".py",
   "mimetype": "text/x-python",
   "name": "python",
   "nbconvert_exporter": "python",
   "pygments_lexer": "ipython3",
   "version": "3.6.3"
  }
 },
 "nbformat": 4,
 "nbformat_minor": 2
}
